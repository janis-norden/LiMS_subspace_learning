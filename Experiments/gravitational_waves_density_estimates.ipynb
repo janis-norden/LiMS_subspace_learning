{
 "cells": [
  {
   "cell_type": "code",
   "execution_count": 1,
   "metadata": {},
   "outputs": [],
   "source": [
    "import numpy as np\n",
    "from src.dynamical_systems.gravitational_waves import GravitationalWaves\n",
    "from src.density_estimator import DensityEstimator\n",
    "\n",
    "# set random seed\n",
    "np.random.seed(0)"
   ]
  },
  {
   "cell_type": "markdown",
   "metadata": {},
   "source": [
    "## Load Gravitational Waves Posteriors from file"
   ]
  },
  {
   "cell_type": "code",
   "execution_count": 2,
   "metadata": {},
   "outputs": [],
   "source": [
    "# define gravitational waves model\n",
    "gw_model = GravitationalWaves()\n",
    "\n",
    "# load posteriors from file\n",
    "data_box = gw_model.load_data()\n",
    "\n",
    "# merge classes 0 and 1\n",
    "class_idx = np.array([0, 1])\n",
    "data_box_merged = data_box.merge_classes(class_idx)\n",
    "\n",
    "# down-sample\n",
    "class_idx = np.array([2])               # select class with labels 2\n",
    "return_amounts = np.array([30])         # randomly downsample to 30 examples\n",
    "data_box_down_sampled = data_box_merged.down_sample_examples(class_idx, return_amounts)\n",
    "\n",
    "data_box_final = data_box_down_sampled"
   ]
  },
  {
   "cell_type": "code",
   "execution_count": null,
   "metadata": {},
   "outputs": [],
   "source": [
    "# Print meta data for GW\n",
    "print('# examples total:     ', len(data_box.get_labels()))\n",
    "print('# examples BNS:       ', sum(data_box.get_labels() == 0))\n",
    "print('# examples NSBH:      ', sum(data_box.get_labels() == 1))\n",
    "print('# examples small BBH: ', sum(data_box.get_labels() == 2))\n",
    "print('# examples large BBH: ', sum(data_box.get_labels() == 3))"
   ]
  },
  {
   "cell_type": "code",
   "execution_count": null,
   "metadata": {},
   "outputs": [],
   "source": [
    "# make cornerplot of posterior samples\n",
    "num_bins = 100\n",
    "smoothness = 1\n",
    "colours = ['blue', 'red', 'green']\n",
    "labels=[r\"$m_{1}$\",\n",
    "        r\"$m_{2}$\",\n",
    "        r\"$s_{1}$\",\n",
    "        r\"$s_{2}$\"]\n",
    "limits = np.array([[0, 100],\n",
    "                   [0, 100],\n",
    "                   [-1, 1],\n",
    "                   [-1, 1],])\n",
    "\n",
    "title = 'Gravitational Waves'\n",
    "legend = ['NS - BH / NS - NS', 'Small BH - Small BH', 'Large BH - Large BH ']\n",
    "figsize = (15, 6)\n",
    "\n",
    "data_box_final.plot_posterior_samples(num_bins, smoothness, colours, labels, limits, title, legend, figsize)"
   ]
  },
  {
   "cell_type": "markdown",
   "metadata": {},
   "source": [
    "## Density Estimation"
   ]
  },
  {
   "cell_type": "code",
   "execution_count": null,
   "metadata": {},
   "outputs": [],
   "source": [
    "# create density estimate\n",
    "\n",
    "# set density estimation options\n",
    "density_est_opts = {\n",
    "    'type':             'bayesian_gaussian_mixture',\n",
    "    'covariance_type':                  'spherical',    # 'full', 'diag' 'spherical' \n",
    "    'n_components':                              20,    # 10\n",
    "    'n_init' :                                   20,    # 15\n",
    "    'max_iter':                                 500,    # 200\n",
    "    'trim_percent':                            0.99\n",
    "}\n",
    "\n",
    "# define density estimator object\n",
    "dens_estimator = DensityEstimator(data_box_final, density_est_opts)\n",
    "\n",
    "# run sampling\n",
    "data_box_spherical = dens_estimator.run_density_estimation()"
   ]
  },
  {
   "cell_type": "markdown",
   "metadata": {},
   "source": [
    "## Save data to file"
   ]
  },
  {
   "cell_type": "code",
   "execution_count": 5,
   "metadata": {},
   "outputs": [],
   "source": [
    "# save data boxes with created density estimates\n",
    "data_box_spherical.save_data('spherical_finite_mixture')"
   ]
  }
 ],
 "metadata": {
  "kernelspec": {
   "display_name": ".venv",
   "language": "python",
   "name": "python3"
  },
  "language_info": {
   "codemirror_mode": {
    "name": "ipython",
    "version": 3
   },
   "file_extension": ".py",
   "mimetype": "text/x-python",
   "name": "python",
   "nbconvert_exporter": "python",
   "pygments_lexer": "ipython3",
   "version": "3.9.13"
  }
 },
 "nbformat": 4,
 "nbformat_minor": 2
}
