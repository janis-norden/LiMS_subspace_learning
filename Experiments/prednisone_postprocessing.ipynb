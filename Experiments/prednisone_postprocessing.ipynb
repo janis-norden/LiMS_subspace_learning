{
 "cells": [
  {
   "cell_type": "code",
   "execution_count": 1,
   "metadata": {},
   "outputs": [],
   "source": [
    "# import relevant packages\n",
    "import postprocessing\n",
    "import numpy as np\n",
    "import matplotlib.pyplot as plt"
   ]
  },
  {
   "cell_type": "markdown",
   "metadata": {},
   "source": [
    "## Description\n",
    "This script contains the code to produce produce Figures 1 - 5 presented in the manuscript \"Discriminative subspace learning for model- and data-driven discovery\"."
   ]
  },
  {
   "cell_type": "markdown",
   "metadata": {},
   "source": [
    "## Data generation and processing pipeline\n",
    "The following cell produces Figure 1."
   ]
  },
  {
   "cell_type": "code",
   "execution_count": null,
   "metadata": {},
   "outputs": [],
   "source": [
    "fig = postprocessing.plot_data_generation_pipeline(label_fontsize=18, \n",
    "                                                         title_fontsize=18, \n",
    "                                                         legend_fontsize=14, \n",
    "                                                         marker_size=12, \n",
    "                                                         scatter_area=144, \n",
    "                                                         line_width=2, \n",
    "                                                         tick_fontsize=16)\n",
    "#fig.savefig(\"Figures/pred_data_generation.pdf\", format=\"pdf\", bbox_inches=\"tight\")     # uncomment to save figure"
   ]
  },
  {
   "cell_type": "markdown",
   "metadata": {},
   "source": [
    "## Experiment: Influence of covariance types\n",
    "The following cell produces Figure 2."
   ]
  },
  {
   "cell_type": "code",
   "execution_count": null,
   "metadata": {},
   "outputs": [],
   "source": [
    "filename_restricted = 'exp1_2024_09_16_19_59_49_prednisone_3D_restricted_finite'\n",
    "filename_unrestricted = 'exp1_2024_09_15_17_04_49_prednisone_3D_finite'\n",
    "fig = postprocessing.plot_accuracy_time_exp1_restricted_unrestricted(\n",
    "    filename_restricted, \n",
    "    filename_unrestricted, \n",
    "    winner_takes_all=True, \n",
    "    avg_type='macro',\n",
    "    axis_label_fontsize=18,\n",
    "    tick_fontsize=16,\n",
    "    legend_fontsize=14,\n",
    "    boxplot_linewidth=3,\n",
    "    text_fontsize=14\n",
    ")\n",
    "#fig.savefig(\"Figures/pred_covariance_types.pdf\", format=\"pdf\", bbox_inches=\"tight\")    # uncomment to save figure"
   ]
  },
  {
   "cell_type": "markdown",
   "metadata": {},
   "source": [
    "## Experiment: Influence of optimization mode\n",
    "The following cell produces Figure 3."
   ]
  },
  {
   "cell_type": "code",
   "execution_count": null,
   "metadata": {},
   "outputs": [],
   "source": [
    "#postprocessing.plot_accuracy_time_exp2(filename_exp2, winner_takes_all = True, avg_type = 'macro')\n",
    "filename_exp2 = 'exp2_2024_09_14_13_07_12_prednisone_3D_finite'\n",
    "postprocessing.print_meta_data(filename_exp2)\n",
    "fig = postprocessing.plot_accuracy_time_exp2_opt_types(\n",
    "    filename_exp2,\n",
    "    winner_takes_all=True, \n",
    "    avg_type='macro',\n",
    "    axis_label_fontsize=18,\n",
    "    tick_fontsize=16,\n",
    "    legend_fontsize=14,\n",
    "    boxplot_linewidth=3,\n",
    "    text_fontsize=14\n",
    "    )\n",
    "#fig.savefig(\"Figures/pred_opt_modes.pdf\", format=\"pdf\", bbox_inches=\"tight\")    # uncomment to save figure"
   ]
  },
  {
   "cell_type": "markdown",
   "metadata": {},
   "source": [
    "## Experiment: Worst Case Initializations\n",
    "The following cell produces Figure 4."
   ]
  },
  {
   "cell_type": "code",
   "execution_count": null,
   "metadata": {},
   "outputs": [],
   "source": [
    "filename_exp5 = 'exp5_2024_09_16_12_56_46_prednisone_3D_finite'\n",
    "postprocessing.print_meta_data(filename_exp5)\n",
    "fig = postprocessing.plot_optimization_history_averages(\n",
    "    filename=filename_exp5, \n",
    "    winner_takes_all=True, \n",
    "    num_std=1, \n",
    "    axis_label_fontsize=18, \n",
    "    tick_fontsize=16, \n",
    "    legend_fontsize=14, \n",
    "    line_width=3\n",
    ")\n",
    "#fig.savefig(\"Figures/pred_worst_case_init_2_by_2.pdf\", format=\"pdf\", bbox_inches=\"tight\")    # uncomment to save figure"
   ]
  },
  {
   "cell_type": "markdown",
   "metadata": {},
   "source": [
    "## Experiment: GMLVQ initalizations\n",
    "The following cell produces Figure 5."
   ]
  },
  {
   "cell_type": "code",
   "execution_count": null,
   "metadata": {},
   "outputs": [],
   "source": [
    "filename_exp6 = 'exp6_2024_09_16_13_19_57_prednisone_3D_finite'\n",
    "postprocessing.print_meta_data(filename_exp6)\n",
    "fig = postprocessing.plot_GMLVQ_SSL_comparisson(\n",
    "    filename = filename_exp6, \n",
    "    winner_takes_all = True,\n",
    "    axis_label_fontsize=18, \n",
    "    tick_fontsize=16, \n",
    "    legend_fontsize=14, \n",
    "    boxplot_linewidth=3\n",
    "    )\n",
    "#fig.savefig(\"Figures/pred_GMLVQ_init.pdf\", format=\"pdf\", bbox_inches=\"tight\")    # uncomment to save figure"
   ]
  }
 ],
 "metadata": {
  "kernelspec": {
   "display_name": ".venv",
   "language": "python",
   "name": "python3"
  },
  "language_info": {
   "codemirror_mode": {
    "name": "ipython",
    "version": 3
   },
   "file_extension": ".py",
   "mimetype": "text/x-python",
   "name": "python",
   "nbconvert_exporter": "python",
   "pygments_lexer": "ipython3",
   "version": "3.9.13"
  }
 },
 "nbformat": 4,
 "nbformat_minor": 2
}
