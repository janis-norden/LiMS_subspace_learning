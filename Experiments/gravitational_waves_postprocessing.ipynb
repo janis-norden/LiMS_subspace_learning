{
 "cells": [
  {
   "cell_type": "code",
   "execution_count": 1,
   "metadata": {},
   "outputs": [],
   "source": [
    "# import relevant packages\n",
    "import postprocessing\n",
    "import numpy as np"
   ]
  },
  {
   "cell_type": "markdown",
   "metadata": {},
   "source": [
    "## Description\n",
    "This script contains the code to produce produce Figures 6 and 7 presented in \"Discriminative subspace learning for model- and data-driven discovery\" by J. Norden et al."
   ]
  },
  {
   "cell_type": "markdown",
   "metadata": {},
   "source": [
    "## Experiment: gravitational waves subspace learning (random resampling)\n",
    "The following cell produces Figure 6."
   ]
  },
  {
   "cell_type": "code",
   "execution_count": null,
   "metadata": {},
   "outputs": [],
   "source": [
    "filename_exp4b = 'exp4b_2024_08_03_19_07_00_finite'\n",
    "postprocessing.print_meta_data(filename_exp4b)\n",
    "fig = postprocessing.boxplot_accuracy_loglikelihood_exp4b(\n",
    "    filename_exp4b, \n",
    "    winner_takes_all = True, \n",
    "    avg_type = 'macro',\n",
    "    axis_label_fontsize = 18, \n",
    "    tick_fontsize=16, \n",
    "    legend_fontsize=14, \n",
    "    boxplot_linewidth=3\n",
    "    )\n",
    "# fig.savefig(\"Figures/GW_accuracy.pdf\", format=\"pdf\", bbox_inches=\"tight\")"
   ]
  },
  {
   "cell_type": "markdown",
   "metadata": {},
   "source": [
    "## Relevance profile and projection plots\n",
    "The following cell produces Figure 7."
   ]
  },
  {
   "cell_type": "code",
   "execution_count": null,
   "metadata": {},
   "outputs": [],
   "source": [
    "# Plot class-conditional distributions projected on solution vector\n",
    "filename_exp4b = 'exp4b_2024_08_03_19_07_00_finite'\n",
    "plot_opts = {\n",
    "    'x_d1': np.linspace(0, 100, 200),\n",
    "    'x_d2': np.linspace(0, 100, 200),\n",
    "    'y_d2': np.linspace(0, 100, 200),\n",
    "    'alpha': 0.5,\n",
    "}\n",
    "fig = postprocessing.plot_projected_densities_b_paper_relevance_profile(\n",
    "    filename_exp4b, \n",
    "    winner_takes_all = True, \n",
    "    avg_type = 'macro', \n",
    "    plot_opts = plot_opts,\n",
    "    title_fontsize=16,\n",
    "    axis_label_fontsize=18,\n",
    "    tick_fontsize=16,\n",
    "    legend_fontsize=14,\n",
    "    linewidth=2,\n",
    "    heatmap_fontsize = 9\n",
    "    )\n",
    "# fig.savefig(\"Figures/GW_projections_relevance_profiles.pdf\", format=\"pdf\", bbox_inches=\"tight\")"
   ]
  }
 ],
 "metadata": {
  "kernelspec": {
   "display_name": ".venv",
   "language": "python",
   "name": "python3"
  },
  "language_info": {
   "codemirror_mode": {
    "name": "ipython",
    "version": 3
   },
   "file_extension": ".py",
   "mimetype": "text/x-python",
   "name": "python",
   "nbconvert_exporter": "python",
   "pygments_lexer": "ipython3",
   "version": "3.9.13"
  }
 },
 "nbformat": 4,
 "nbformat_minor": 2
}
